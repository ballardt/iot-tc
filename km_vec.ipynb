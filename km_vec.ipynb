{
 "cells": [
  {
   "cell_type": "markdown",
   "metadata": {
    "ein.tags": "worksheet-0",
    "slideshow": {
     "slide_type": "-"
    }
   },
   "source": [
    "# Vector/k-means based algorithms\n",
    "\n",
    "These algorithms generally have the following structure:\n",
    "\n",
    "1: Vectorize documents\n",
    "2: Cluster documents\n",
    "3: Evaluate the results\n",
    "4: Update k\n",
    "5: Repeat until our evaluation is satisfactory\n",
    "\n",
    "First we will write some common functions to avoid duplicating too much."
   ]
  },
  {
   "cell_type": "code",
   "execution_count": 1,
   "metadata": {
    "autoscroll": false,
    "collapsed": false,
    "ein.tags": "worksheet-0",
    "slideshow": {
     "slide_type": "-"
    }
   },
   "outputs": [],
   "source": [
    "import nltk as n\n",
    "import analyze_text as atxt\n",
    "import scipy\n",
    "\n",
    "def tokenize(text):\n",
    "    # Remove named entities\n",
    "    # TODO necessary?\n",
    "    named_entities = []\n",
    "    chunked = n.ne_chunk(n.pos_tag(n.word_tokenize(text)))\n",
    "    for chunk in chunked:\n",
    "        if type(chunk) == n.tree.Tree:\n",
    "           ne = ' '.join([token for token, pos in chunk.leaves()])\n",
    "           text = text.replace(ne, '') # Tokenize\n",
    "    tokens = atxt.tokenize(text)\n",
    "    tokens = [token for token in tokens if len(token) >= 4]\n",
    "    tokens = [atxt.get_lemma(token) for token in tokens if atxt.get_lemma(token)]\n",
    "    tokens = [token for token in tokens if token.isalpha()]\n",
    "    return tokens\n",
    "\n",
    "def mscd(km_matrix):\n",
    "    sum = 0\n",
    "    i = 0\n",
    "    for row1 in km_matrix:\n",
    "        j = i + 1\n",
    "        for row2 in km_matrix[j:]:\n",
    "            sum += scipy.spatial.distance.cosine(row1, row2)**2\n",
    "        i += 1\n",
    "    sum *= 2 / (km_matrix.shape[0] * (km_matrix.shape[0] - 1))\n",
    "    return sum**(1/2.0)"
   ]
  },
  {
   "cell_type": "markdown",
   "metadata": {
    "ein.tags": "worksheet-0",
    "slideshow": {
     "slide_type": "-"
    }
   },
   "source": [
    "## Doc2Vec\n",
    "\n",
    "Here we use Doc2Vec (trained on a large external dataset) as the vectorizer, and standard k-means based on cosine distance."
   ]
  },
  {
   "cell_type": "code",
   "execution_count": 5,
   "metadata": {
    "autoscroll": false,
    "collapsed": false,
    "ein.tags": "worksheet-0",
    "slideshow": {
     "slide_type": "-"
    }
   },
   "outputs": [],
   "source": [
    "# A naive half-implementation used to plot MSCD at varying k\n",
    "import os\n",
    "import numpy as np\n",
    "\n",
    "K_VALS = [2, 3, 5, 7, 10, 25, 50, 75, 100, 150, 200]\n",
    "BASE_PATH = '/home/trevor/Projects/iot-diff/iot-tc/'\n",
    "DATA_CNET_PATH = os.path.join(BASE_PATH, 'cnet-classifications.csv')\n",
    "\n",
    "\n",
    "### Vectorize\n",
    "import gensim as g\n",
    "import pandas as pd\n",
    "\n",
    "D2V_WIKI_PATH = os.path.join(BASE_PATH, 'enwiki_dbow/doc2vec.bin')\n",
    "\n",
    "model = g.models.doc2vec.Doc2Vec.load(D2V_WIKI_PATH)\n",
    "df = pd.read_csv(DATA_CNET_PATH)\n",
    "df['vec'] = 'N/A'\n",
    "for i, row in df.iterrows():\n",
    "    text = row['article_content']\n",
    "    row['vec'] = model.infer_vector(tokenize(text))\n",
    "vecs = np.array(df['vec'].tolist())\n",
    "\n",
    "\n",
    "### Cluster\n",
    "import spherecluster as sp\n",
    "\n",
    "mscd_scores = {}\n",
    "for k in K_VALS:\n",
    "    skm = sp.SphericalKMeans(n_clusters=k)\n",
    "    df['cluster'] = skm.fit_predict(vecs)\n",
    "    mscd_scores[k] = mscd(skm.cluster_centers_)"
   ]
  },
  {
   "cell_type": "code",
   "execution_count": 12,
   "metadata": {
    "autoscroll": false,
    "collapsed": false,
    "ein.tags": "worksheet-0",
    "slideshow": {
     "slide_type": "-"
    }
   },
   "outputs": [
    {
     "data": {
      "text/plain": [
       "<matplotlib.text.Text at 0x7f0b3f5f2780>"
      ]
     },
     "execution_count": 12,
     "metadata": {},
     "output_type": "execute_result"
    },
    {
     "data": {
      "image/png": "[encoded data removed]",
      "text/plain": [
       "<matplotlib.figure.Figure at 0x7f0acf388ba8>"
      ]
     },
     "metadata": {},
     "output_type": "display_data"
    }
   ],
   "source": [
    "### Visualize\n",
    "import matplotlib as mpl\n",
    "import seaborn as sb\n",
    "%matplotlib inline\n",
    "\n",
    "mpl.rcParams['figure.facecolor'] = 'white'\n",
    "mpl.rcParams['axes.facecolor'] = 'white'\n",
    "mpl.rcParams['savefig.facecolor'] = 'white'\n",
    "\n",
    "pointplt = sb.pointplot(x=K_VALS, y=list(mscd_scores.values()), ymax=1, ymin=0.0)\n",
    "pointplt.set_title('D2V+KM MSCD at varying k')"
   ]
  }
 ],
 "metadata": {
  "kernelspec": {
   "display_name": "Python 3",
   "name": "python3"
  },
  "name": "km_vec.ipynb"
 },
 "nbformat": 4,
 "nbformat_minor": 2
}
